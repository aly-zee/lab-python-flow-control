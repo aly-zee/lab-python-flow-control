{
 "cells": [
  {
   "cell_type": "markdown",
   "id": "d3bfc191-8885-42ee-b0a0-bbab867c6f9f",
   "metadata": {
    "tags": []
   },
   "source": [
    "# Lab | Flow Control"
   ]
  },
  {
   "cell_type": "markdown",
   "id": "3851fcd1-cf98-4653-9c89-e003b7ec9400",
   "metadata": {},
   "source": [
    "## Exercise: Managing Customer Orders Optimized\n",
    "\n",
    "In the last lab, you were starting an online store that sells various products. To ensure smooth operations, you developed a program that manages customer orders and inventory.\n",
    "\n",
    "You did so without using flow control. Let's go a step further and improve this code.\n",
    "\n",
    "Follow the steps below to complete the exercise:\n",
    "\n",
    "1. Look at your code from the lab data structures, and improve repeated code with loops.\n",
    "\n",
    "2. Instead of asking the user to input the name of three products that a customer wants to order, do the following:\n",
    "    \n",
    "    a. Prompt the user to enter the name of a product that a customer wants to order.\n",
    "    \n",
    "    b. Add the product name to the \"customer_orders\" set.\n",
    "    \n",
    "    c. Ask the user if they want to add another product (yes/no).\n",
    "    \n",
    "    d. Continue the loop until the user does not want to add another product.\n",
    "\n",
    "3. Instead of updating the inventory by subtracting 1 from the quantity of each product, only do it for  the products that were ordered (those in \"customer_orders\")."
   ]
  },
  {
   "cell_type": "code",
   "execution_count": 63,
   "id": "3c74071d",
   "metadata": {},
   "outputs": [],
   "source": [
    "# Define a list called products that contains the following items: \"t-shirt\", \"mug\", \"hat\", \"book\", \"keychain\".\n",
    "\n",
    "products = [\"t-shirt\", \"mug\", \"hat\", \"book\", \"keychain\"]"
   ]
  },
  {
   "cell_type": "code",
   "execution_count": 64,
   "id": "74dbefbf",
   "metadata": {},
   "outputs": [],
   "source": [
    "# Create an empty dictionary called inventory.\n",
    "inventory = {}"
   ]
  },
  {
   "cell_type": "code",
   "execution_count": 65,
   "id": "b4a66c53",
   "metadata": {},
   "outputs": [
    {
     "name": "stdout",
     "output_type": "stream",
     "text": [
      "Enter the inventory for item t-shirt 15\n",
      "Enter the inventory for item mug 20\n",
      "Enter the inventory for item hat 15\n",
      "Enter the inventory for item book 20\n",
      "Enter the inventory for item keychain 15\n",
      "{'t-shirt': 15, 'mug': 20, 'hat': 15, 'book': 20, 'keychain': 15}\n"
     ]
    }
   ],
   "source": [
    "for item in products:\n",
    "    inventory_qty = int(input(\"Enter the inventory for item \" + item + \" \"))\n",
    "    inventory[item] = inventory_qty\n",
    "    \n",
    "print(inventory)"
   ]
  },
  {
   "cell_type": "code",
   "execution_count": 66,
   "id": "e5aa5572",
   "metadata": {},
   "outputs": [],
   "source": [
    "# Create an empty set called customer_orders\n",
    "customer_orders = set()"
   ]
  },
  {
   "cell_type": "code",
   "execution_count": 67,
   "id": "ccd8c9f8",
   "metadata": {},
   "outputs": [
    {
     "name": "stdout",
     "output_type": "stream",
     "text": [
      "What would you like to order? hat\n",
      "Add another product? (y/n) y\n",
      "What would you like to order? mug\n",
      "Add another product? (y/n) y\n",
      "What would you like to order? book\n",
      "Add another product? (y/n) n\n",
      "Thank you for your order\n"
     ]
    }
   ],
   "source": [
    "'''\n",
    "Instead of asking the user to input the name of three products that a customer wants to order, do the following:\n",
    "\n",
    "a. Prompt the user to enter the name of a product that a customer wants to order.\n",
    "\n",
    "b. Add the product name to the \"customer_orders\" set.\n",
    "\n",
    "c. Ask the user if they want to add another product (yes/no).\n",
    "'''\n",
    "\n",
    "more_product = 'y'\n",
    "# answer = input('enter command > ').lower().strip()\n",
    "while more_product == 'y':\n",
    "    selection = customer_orders.add(input(\"What would you like to order? \"))\n",
    "    more_product = input(\"Add another product? (y/n) \").lower().strip()\n",
    "    \n",
    "    while more_product.lower() not in {'y', 'n'}:\n",
    "        print(\"Invalid input! Please enter 'y' or 'n'.\")\n",
    "        more_product = input(\"Add another product? (y/n) \").lower().strip()\n",
    "else:\n",
    "    print(\"Thank you for your order\")\n",
    "                        "
   ]
  },
  {
   "cell_type": "code",
   "execution_count": 68,
   "id": "bbf98689",
   "metadata": {},
   "outputs": [
    {
     "name": "stdout",
     "output_type": "stream",
     "text": [
      "{'hat', 'book', 'mug'}\n"
     ]
    }
   ],
   "source": [
    "print(customer_orders)"
   ]
  },
  {
   "cell_type": "code",
   "execution_count": 69,
   "id": "baa50aa4",
   "metadata": {},
   "outputs": [
    {
     "name": "stdout",
     "output_type": "stream",
     "text": [
      "dict_keys(['t-shirt', 'mug', 'hat', 'book', 'keychain'])\n"
     ]
    }
   ],
   "source": [
    "print(inventory.keys())"
   ]
  },
  {
   "cell_type": "code",
   "execution_count": 72,
   "id": "50056841",
   "metadata": {},
   "outputs": [],
   "source": [
    "for item in customer_orders:\n",
    "    if item in inventory:\n",
    "        inventory[item]-= 1"
   ]
  },
  {
   "cell_type": "code",
   "execution_count": 73,
   "id": "c645e8d2",
   "metadata": {},
   "outputs": [
    {
     "name": "stdout",
     "output_type": "stream",
     "text": [
      "{'t-shirt': 15, 'mug': 19, 'hat': 14, 'book': 19, 'keychain': 15}\n"
     ]
    }
   ],
   "source": [
    "print(inventory)"
   ]
  },
  {
   "cell_type": "code",
   "execution_count": null,
   "id": "b46f630b",
   "metadata": {},
   "outputs": [],
   "source": []
  },
  {
   "cell_type": "code",
   "execution_count": null,
   "id": "31d166ea",
   "metadata": {},
   "outputs": [],
   "source": []
  }
 ],
 "metadata": {
  "kernelspec": {
   "display_name": "Python 3 (ipykernel)",
   "language": "python",
   "name": "python3"
  },
  "language_info": {
   "codemirror_mode": {
    "name": "ipython",
    "version": 3
   },
   "file_extension": ".py",
   "mimetype": "text/x-python",
   "name": "python",
   "nbconvert_exporter": "python",
   "pygments_lexer": "ipython3",
   "version": "3.9.7"
  }
 },
 "nbformat": 4,
 "nbformat_minor": 5
}
